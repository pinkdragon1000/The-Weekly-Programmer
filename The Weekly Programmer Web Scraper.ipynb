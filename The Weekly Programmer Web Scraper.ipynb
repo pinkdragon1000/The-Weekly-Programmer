{
 "cells": [
  {
   "cell_type": "markdown",
   "metadata": {},
   "source": [
    "### The Weekly Programmer Web Scraper"
   ]
  },
  {
   "cell_type": "code",
   "execution_count": 1,
   "metadata": {},
   "outputs": [],
   "source": [
    "import requests\n",
    "import bs4\n",
    "import pandas as pd\n",
    "from bs4 import BeautifulSoup"
   ]
  },
  {
   "cell_type": "code",
   "execution_count": 2,
   "metadata": {},
   "outputs": [],
   "source": [
    "CODE_CHEF_URL = \"https://www.codechef.com/problems/school/\"\n",
    "LEETCODE_URL=\"https://leetcode.com/problemset/all/\"\n",
    "CODE_CHEF_PROBLEM_BASE_URL=\"https://www.codechef.com/problems/\"\n",
    "\n",
    "df=pd.DataFrame()\n",
    "leetcodeDf=pd.DataFrame()"
   ]
  },
  {
   "cell_type": "markdown",
   "metadata": {},
   "source": [
    "Scraping Code Chef to get the Problem Name, ID, and URL"
   ]
  },
  {
   "cell_type": "code",
   "execution_count": 3,
   "metadata": {},
   "outputs": [],
   "source": [
    "def getProblemCodeChef(url):\n",
    "    page = requests.get(url)\n",
    "    soup = BeautifulSoup(page.text, \"html.parser\")\n",
    "\n",
    "    for div in soup.find_all(name=\"div\", attrs={\"class\":\"problemname\"}):\n",
    "        names=soup.findAll(\"b\", attrs={\"style\":\"\"})\n",
    "        problemIds=soup.findAll(\"a\", attrs={\"title\": \"Submit a solution to this problem.\"})\n",
    "    for x in range(0, len(names)):\n",
    "        names[x]=names[x].text\n",
    "        problemIds[x]=problemIds[x].text\n",
    "    df[\"Names\"]=names\n",
    "    df[\"ProblemIds\"]=problemIds\n",
    "    df[\"ProblemUrls\"]=CODE_CHEF_PROBLEM_BASE_URL+df[\"ProblemIds\"]\n",
    "    return df"
   ]
  },
  {
   "cell_type": "code",
   "execution_count": 4,
   "metadata": {},
   "outputs": [
    {
     "data": {
      "text/html": [
       "<div>\n",
       "<style scoped>\n",
       "    .dataframe tbody tr th:only-of-type {\n",
       "        vertical-align: middle;\n",
       "    }\n",
       "\n",
       "    .dataframe tbody tr th {\n",
       "        vertical-align: top;\n",
       "    }\n",
       "\n",
       "    .dataframe thead th {\n",
       "        text-align: right;\n",
       "    }\n",
       "</style>\n",
       "<table border=\"1\" class=\"dataframe\">\n",
       "  <thead>\n",
       "    <tr style=\"text-align: right;\">\n",
       "      <th></th>\n",
       "      <th>Names</th>\n",
       "      <th>ProblemIds</th>\n",
       "      <th>ProblemUrls</th>\n",
       "    </tr>\n",
       "  </thead>\n",
       "  <tbody>\n",
       "    <tr>\n",
       "      <th>0</th>\n",
       "      <td>ATM</td>\n",
       "      <td>HS08TEST</td>\n",
       "      <td>https://www.codechef.com/problems/HS08TEST</td>\n",
       "    </tr>\n",
       "    <tr>\n",
       "      <th>1</th>\n",
       "      <td>Enormous Input Test</td>\n",
       "      <td>INTEST</td>\n",
       "      <td>https://www.codechef.com/problems/INTEST</td>\n",
       "    </tr>\n",
       "    <tr>\n",
       "      <th>2</th>\n",
       "      <td>Add Two Numbers</td>\n",
       "      <td>FLOW001</td>\n",
       "      <td>https://www.codechef.com/problems/FLOW001</td>\n",
       "    </tr>\n",
       "    <tr>\n",
       "      <th>3</th>\n",
       "      <td>Number Mirror</td>\n",
       "      <td>START01</td>\n",
       "      <td>https://www.codechef.com/problems/START01</td>\n",
       "    </tr>\n",
       "    <tr>\n",
       "      <th>4</th>\n",
       "      <td>Sum of Digits</td>\n",
       "      <td>FLOW006</td>\n",
       "      <td>https://www.codechef.com/problems/FLOW006</td>\n",
       "    </tr>\n",
       "  </tbody>\n",
       "</table>\n",
       "</div>"
      ],
      "text/plain": [
       "                 Names ProblemIds                                 ProblemUrls\n",
       "0                  ATM   HS08TEST  https://www.codechef.com/problems/HS08TEST\n",
       "1  Enormous Input Test     INTEST    https://www.codechef.com/problems/INTEST\n",
       "2      Add Two Numbers    FLOW001   https://www.codechef.com/problems/FLOW001\n",
       "3        Number Mirror    START01   https://www.codechef.com/problems/START01\n",
       "4        Sum of Digits    FLOW006   https://www.codechef.com/problems/FLOW006"
      ]
     },
     "execution_count": 4,
     "metadata": {},
     "output_type": "execute_result"
    }
   ],
   "source": [
    "df=getProblemCodeChef(CODE_CHEF_URL)\n",
    "df.head()"
   ]
  },
  {
   "cell_type": "code",
   "execution_count": 5,
   "metadata": {},
   "outputs": [],
   "source": [
    "def getProblemLeetcode(url):\n",
    "    page=requests.get(url)\n",
    "    soup=BeautifulSoup(page.text, \"html.parser\")\n",
    "    names=soup.findAll(\"a\", attrs={\"class\":\"h-5 truncate hover:text-primary-s dark:hover:text-dark-primary-s\"})\n",
    "    urls=names.copy()\n",
    "    \n",
    "    for name in range(0,len(names)):\n",
    "        names[name]=names[name].text[3:].strip()\n",
    "        urls[name]=urls[name][\"href\"]\n",
    "\n",
    "    leetcodeDf[\"Names\"]=names\n",
    "    leetcodeDf[\"ProblemIds\"]=urls\n",
    "    leetcodeDf[\"ProblemUrls\"]=\"https://leetcode.com\"+leetcodeDf[\"ProblemIds\"]\n",
    "    return leetcodeDf"
   ]
  },
  {
   "cell_type": "code",
   "execution_count": 9,
   "metadata": {},
   "outputs": [
    {
     "data": {
      "text/html": [
       "<div>\n",
       "<style scoped>\n",
       "    .dataframe tbody tr th:only-of-type {\n",
       "        vertical-align: middle;\n",
       "    }\n",
       "\n",
       "    .dataframe tbody tr th {\n",
       "        vertical-align: top;\n",
       "    }\n",
       "\n",
       "    .dataframe thead th {\n",
       "        text-align: right;\n",
       "    }\n",
       "</style>\n",
       "<table border=\"1\" class=\"dataframe\">\n",
       "  <thead>\n",
       "    <tr style=\"text-align: right;\">\n",
       "      <th></th>\n",
       "      <th>Names</th>\n",
       "      <th>ProblemIds</th>\n",
       "      <th>ProblemUrls</th>\n",
       "    </tr>\n",
       "  </thead>\n",
       "  <tbody>\n",
       "    <tr>\n",
       "      <th>0</th>\n",
       "      <td>Two Sum</td>\n",
       "      <td>/problems/two-sum</td>\n",
       "      <td>https://leetcode.com/problems/two-sum</td>\n",
       "    </tr>\n",
       "    <tr>\n",
       "      <th>1</th>\n",
       "      <td>Add Two Numbers</td>\n",
       "      <td>/problems/add-two-numbers</td>\n",
       "      <td>https://leetcode.com/problems/add-two-numbers</td>\n",
       "    </tr>\n",
       "    <tr>\n",
       "      <th>2</th>\n",
       "      <td>Longest Substring Without Repeating Characters</td>\n",
       "      <td>/problems/longest-substring-without-repeating-...</td>\n",
       "      <td>https://leetcode.com/problems/longest-substrin...</td>\n",
       "    </tr>\n",
       "    <tr>\n",
       "      <th>3</th>\n",
       "      <td>Median of Two Sorted Arrays</td>\n",
       "      <td>/problems/median-of-two-sorted-arrays</td>\n",
       "      <td>https://leetcode.com/problems/median-of-two-so...</td>\n",
       "    </tr>\n",
       "    <tr>\n",
       "      <th>4</th>\n",
       "      <td>Longest Palindromic Substring</td>\n",
       "      <td>/problems/longest-palindromic-substring</td>\n",
       "      <td>https://leetcode.com/problems/longest-palindro...</td>\n",
       "    </tr>\n",
       "  </tbody>\n",
       "</table>\n",
       "</div>"
      ],
      "text/plain": [
       "                                            Names  \\\n",
       "0                                         Two Sum   \n",
       "1                                 Add Two Numbers   \n",
       "2  Longest Substring Without Repeating Characters   \n",
       "3                     Median of Two Sorted Arrays   \n",
       "4                   Longest Palindromic Substring   \n",
       "\n",
       "                                          ProblemIds  \\\n",
       "0                                  /problems/two-sum   \n",
       "1                          /problems/add-two-numbers   \n",
       "2  /problems/longest-substring-without-repeating-...   \n",
       "3              /problems/median-of-two-sorted-arrays   \n",
       "4            /problems/longest-palindromic-substring   \n",
       "\n",
       "                                         ProblemUrls  \n",
       "0              https://leetcode.com/problems/two-sum  \n",
       "1      https://leetcode.com/problems/add-two-numbers  \n",
       "2  https://leetcode.com/problems/longest-substrin...  \n",
       "3  https://leetcode.com/problems/median-of-two-so...  \n",
       "4  https://leetcode.com/problems/longest-palindro...  "
      ]
     },
     "execution_count": 9,
     "metadata": {},
     "output_type": "execute_result"
    }
   ],
   "source": [
    "leetcodeDf=getProblemLeetcode(LEETCODE_URL)\n",
    "leetcodeDf.head()\n"
   ]
  },
  {
   "cell_type": "markdown",
   "metadata": {},
   "source": [
    "Save all data to excel sheet/csv"
   ]
  },
  {
   "cell_type": "markdown",
   "metadata": {},
   "source": [
    "Randomly picking problems"
   ]
  },
  {
   "cell_type": "code",
   "execution_count": 7,
   "metadata": {},
   "outputs": [],
   "source": [
    "def pickRandomProblems(numLeetCode, numCodeChef):\n",
    "    randomProblemsDf=pd.concat([leetcodeDf.sample(n=numLeetCode), df.sample(n=numCodeChef)], axis=0)\n",
    "    return randomProblemsDf\n"
   ]
  },
  {
   "cell_type": "code",
   "execution_count": 8,
   "metadata": {},
   "outputs": [
    {
     "data": {
      "text/html": [
       "<div>\n",
       "<style scoped>\n",
       "    .dataframe tbody tr th:only-of-type {\n",
       "        vertical-align: middle;\n",
       "    }\n",
       "\n",
       "    .dataframe tbody tr th {\n",
       "        vertical-align: top;\n",
       "    }\n",
       "\n",
       "    .dataframe thead th {\n",
       "        text-align: right;\n",
       "    }\n",
       "</style>\n",
       "<table border=\"1\" class=\"dataframe\">\n",
       "  <thead>\n",
       "    <tr style=\"text-align: right;\">\n",
       "      <th></th>\n",
       "      <th>Names</th>\n",
       "      <th>ProblemIds</th>\n",
       "      <th>ProblemUrls</th>\n",
       "    </tr>\n",
       "  </thead>\n",
       "  <tbody>\n",
       "    <tr>\n",
       "      <th>16</th>\n",
       "      <td>Letter Combinations of a Phone Number</td>\n",
       "      <td>/problems/letter-combinations-of-a-phone-number</td>\n",
       "      <td>https://leetcode.com/problems/letter-combinati...</td>\n",
       "    </tr>\n",
       "    <tr>\n",
       "      <th>7</th>\n",
       "      <td>String to Integer (atoi)</td>\n",
       "      <td>/problems/string-to-integer-atoi</td>\n",
       "      <td>https://leetcode.com/problems/string-to-intege...</td>\n",
       "    </tr>\n",
       "    <tr>\n",
       "      <th>4</th>\n",
       "      <td>Longest Palindromic Substring</td>\n",
       "      <td>/problems/longest-palindromic-substring</td>\n",
       "      <td>https://leetcode.com/problems/longest-palindro...</td>\n",
       "    </tr>\n",
       "    <tr>\n",
       "      <th>210</th>\n",
       "      <td>At the Gates</td>\n",
       "      <td>POPGATES</td>\n",
       "      <td>https://www.codechef.com/problems/POPGATES</td>\n",
       "    </tr>\n",
       "    <tr>\n",
       "      <th>146</th>\n",
       "      <td>Chef Chick</td>\n",
       "      <td>CHFCHK</td>\n",
       "      <td>https://www.codechef.com/problems/CHFCHK</td>\n",
       "    </tr>\n",
       "    <tr>\n",
       "      <th>48</th>\n",
       "      <td>Area OR Perimeter</td>\n",
       "      <td>AREAPERI</td>\n",
       "      <td>https://www.codechef.com/problems/AREAPERI</td>\n",
       "    </tr>\n",
       "    <tr>\n",
       "      <th>33</th>\n",
       "      <td>The Smallest Pair</td>\n",
       "      <td>SMPAIR</td>\n",
       "      <td>https://www.codechef.com/problems/SMPAIR</td>\n",
       "    </tr>\n",
       "  </tbody>\n",
       "</table>\n",
       "</div>"
      ],
      "text/plain": [
       "                                     Names  \\\n",
       "16   Letter Combinations of a Phone Number   \n",
       "7                 String to Integer (atoi)   \n",
       "4            Longest Palindromic Substring   \n",
       "210                           At the Gates   \n",
       "146                             Chef Chick   \n",
       "48                       Area OR Perimeter   \n",
       "33                       The Smallest Pair   \n",
       "\n",
       "                                          ProblemIds  \\\n",
       "16   /problems/letter-combinations-of-a-phone-number   \n",
       "7                   /problems/string-to-integer-atoi   \n",
       "4            /problems/longest-palindromic-substring   \n",
       "210                                         POPGATES   \n",
       "146                                           CHFCHK   \n",
       "48                                          AREAPERI   \n",
       "33                                            SMPAIR   \n",
       "\n",
       "                                           ProblemUrls  \n",
       "16   https://leetcode.com/problems/letter-combinati...  \n",
       "7    https://leetcode.com/problems/string-to-intege...  \n",
       "4    https://leetcode.com/problems/longest-palindro...  \n",
       "210         https://www.codechef.com/problems/POPGATES  \n",
       "146           https://www.codechef.com/problems/CHFCHK  \n",
       "48          https://www.codechef.com/problems/AREAPERI  \n",
       "33            https://www.codechef.com/problems/SMPAIR  "
      ]
     },
     "execution_count": 8,
     "metadata": {},
     "output_type": "execute_result"
    }
   ],
   "source": [
    "pickRandomProblems(3,4)"
   ]
  },
  {
   "cell_type": "markdown",
   "metadata": {},
   "source": [
    "Remove data from overall excel sheet so the problems will never repeat."
   ]
  },
  {
   "cell_type": "markdown",
   "metadata": {},
   "source": [
    "Sending an email with problems to complete"
   ]
  },
  {
   "cell_type": "code",
   "execution_count": null,
   "metadata": {},
   "outputs": [],
   "source": []
  }
 ],
 "metadata": {
  "kernelspec": {
   "display_name": "Python 3",
   "language": "python",
   "name": "python3"
  },
  "language_info": {
   "codemirror_mode": {
    "name": "ipython",
    "version": 3
   },
   "file_extension": ".py",
   "mimetype": "text/x-python",
   "name": "python",
   "nbconvert_exporter": "python",
   "pygments_lexer": "ipython3",
   "version": "3.7.6"
  }
 },
 "nbformat": 4,
 "nbformat_minor": 4
}
