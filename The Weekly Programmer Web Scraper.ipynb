{
 "cells": [
  {
   "cell_type": "markdown",
   "metadata": {},
   "source": [
    "### The Weekly Programmer Web Scraper"
   ]
  },
  {
   "cell_type": "markdown",
   "metadata": {},
   "source": [
    "### Sita Robinson"
   ]
  },
  {
   "cell_type": "code",
   "execution_count": 35,
   "metadata": {},
   "outputs": [],
   "source": [
    "import requests\n",
    "import bs4\n",
    "import pandas as pd\n",
    "from bs4 import BeautifulSoup"
   ]
  },
  {
   "cell_type": "code",
   "execution_count": 36,
   "metadata": {},
   "outputs": [],
   "source": [
    "CODE_CHEF_URL = \"https://www.codechef.com/problems/school/\"\n",
    "LEETCODE_URL=\"https://leetcode.com/problemset/all/\"\n",
    "CODE_CHEF_PROBLEM_BASE_URL=\"https://www.codechef.com/problems/\"\n",
    "\n",
    "df=pd.DataFrame()\n",
    "leetcodeDf=pd.DataFrame()"
   ]
  },
  {
   "cell_type": "markdown",
   "metadata": {},
   "source": [
    "Scraping Code Chef to get the Problem Name, ID, and URL"
   ]
  },
  {
   "cell_type": "code",
   "execution_count": 37,
   "metadata": {},
   "outputs": [],
   "source": [
    "def getProblemCodeChef(url):\n",
    "    page = requests.get(url)\n",
    "    soup = BeautifulSoup(page.text, \"html.parser\")\n",
    "\n",
    "    for div in soup.find_all(name=\"div\", attrs={\"class\":\"problemname\"}):\n",
    "        names=soup.findAll(\"b\", attrs={\"style\":\"\"})\n",
    "        problemIds=soup.findAll(\"a\", attrs={\"title\": \"Submit a solution to this problem.\"})\n",
    "    for x in range(0, len(names)):\n",
    "        names[x]=names[x].text\n",
    "        problemIds[x]=problemIds[x].text\n",
    "    df[\"Names\"]=names\n",
    "    df[\"ProblemIds\"]=problemIds\n",
    "    df[\"ProblemUrls\"]=CODE_CHEF_PROBLEM_BASE_URL+df[\"ProblemIds\"]\n",
    "    df[\"Source\"]=\"CodeChef\"\n",
    "    return df"
   ]
  },
  {
   "cell_type": "code",
   "execution_count": 38,
   "metadata": {},
   "outputs": [
    {
     "data": {
      "text/html": [
       "<div>\n",
       "<style scoped>\n",
       "    .dataframe tbody tr th:only-of-type {\n",
       "        vertical-align: middle;\n",
       "    }\n",
       "\n",
       "    .dataframe tbody tr th {\n",
       "        vertical-align: top;\n",
       "    }\n",
       "\n",
       "    .dataframe thead th {\n",
       "        text-align: right;\n",
       "    }\n",
       "</style>\n",
       "<table border=\"1\" class=\"dataframe\">\n",
       "  <thead>\n",
       "    <tr style=\"text-align: right;\">\n",
       "      <th></th>\n",
       "      <th>Names</th>\n",
       "      <th>ProblemIds</th>\n",
       "      <th>ProblemUrls</th>\n",
       "      <th>Source</th>\n",
       "    </tr>\n",
       "  </thead>\n",
       "  <tbody>\n",
       "    <tr>\n",
       "      <th>0</th>\n",
       "      <td>ATM</td>\n",
       "      <td>HS08TEST</td>\n",
       "      <td>https://www.codechef.com/problems/HS08TEST</td>\n",
       "      <td>CodeChef</td>\n",
       "    </tr>\n",
       "    <tr>\n",
       "      <th>1</th>\n",
       "      <td>Enormous Input Test</td>\n",
       "      <td>INTEST</td>\n",
       "      <td>https://www.codechef.com/problems/INTEST</td>\n",
       "      <td>CodeChef</td>\n",
       "    </tr>\n",
       "    <tr>\n",
       "      <th>2</th>\n",
       "      <td>Add Two Numbers</td>\n",
       "      <td>FLOW001</td>\n",
       "      <td>https://www.codechef.com/problems/FLOW001</td>\n",
       "      <td>CodeChef</td>\n",
       "    </tr>\n",
       "    <tr>\n",
       "      <th>3</th>\n",
       "      <td>Number Mirror</td>\n",
       "      <td>START01</td>\n",
       "      <td>https://www.codechef.com/problems/START01</td>\n",
       "      <td>CodeChef</td>\n",
       "    </tr>\n",
       "    <tr>\n",
       "      <th>4</th>\n",
       "      <td>Sum of Digits</td>\n",
       "      <td>FLOW006</td>\n",
       "      <td>https://www.codechef.com/problems/FLOW006</td>\n",
       "      <td>CodeChef</td>\n",
       "    </tr>\n",
       "  </tbody>\n",
       "</table>\n",
       "</div>"
      ],
      "text/plain": [
       "                 Names ProblemIds                                 ProblemUrls  \\\n",
       "0                  ATM   HS08TEST  https://www.codechef.com/problems/HS08TEST   \n",
       "1  Enormous Input Test     INTEST    https://www.codechef.com/problems/INTEST   \n",
       "2      Add Two Numbers    FLOW001   https://www.codechef.com/problems/FLOW001   \n",
       "3        Number Mirror    START01   https://www.codechef.com/problems/START01   \n",
       "4        Sum of Digits    FLOW006   https://www.codechef.com/problems/FLOW006   \n",
       "\n",
       "     Source  \n",
       "0  CodeChef  \n",
       "1  CodeChef  \n",
       "2  CodeChef  \n",
       "3  CodeChef  \n",
       "4  CodeChef  "
      ]
     },
     "execution_count": 38,
     "metadata": {},
     "output_type": "execute_result"
    }
   ],
   "source": [
    "df=getProblemCodeChef(CODE_CHEF_URL)\n",
    "df.head()"
   ]
  },
  {
   "cell_type": "code",
   "execution_count": 39,
   "metadata": {},
   "outputs": [],
   "source": [
    "def getProblemLeetcode(url):\n",
    "    page=requests.get(url)\n",
    "    soup=BeautifulSoup(page.text, \"html.parser\")\n",
    "    names=soup.findAll(\"a\", attrs={\"class\":\"h-5 truncate hover:text-primary-s dark:hover:text-dark-primary-s\"})\n",
    "    urls=names.copy()\n",
    "    \n",
    "    for name in range(0,len(names)):\n",
    "        names[name]=names[name].text[3:].strip()\n",
    "        urls[name]=urls[name][\"href\"]\n",
    "\n",
    "    leetcodeDf[\"Names\"]=names\n",
    "    leetcodeDf[\"ProblemIds\"]=urls\n",
    "    leetcodeDf[\"ProblemUrls\"]=\"https://leetcode.com\"+leetcodeDf[\"ProblemIds\"]\n",
    "    leetcodeDf[\"Source\"]=\"Leetcode\"\n",
    "    return leetcodeDf"
   ]
  },
  {
   "cell_type": "code",
   "execution_count": 40,
   "metadata": {},
   "outputs": [
    {
     "data": {
      "text/html": [
       "<div>\n",
       "<style scoped>\n",
       "    .dataframe tbody tr th:only-of-type {\n",
       "        vertical-align: middle;\n",
       "    }\n",
       "\n",
       "    .dataframe tbody tr th {\n",
       "        vertical-align: top;\n",
       "    }\n",
       "\n",
       "    .dataframe thead th {\n",
       "        text-align: right;\n",
       "    }\n",
       "</style>\n",
       "<table border=\"1\" class=\"dataframe\">\n",
       "  <thead>\n",
       "    <tr style=\"text-align: right;\">\n",
       "      <th></th>\n",
       "      <th>Names</th>\n",
       "      <th>ProblemIds</th>\n",
       "      <th>ProblemUrls</th>\n",
       "      <th>Source</th>\n",
       "    </tr>\n",
       "  </thead>\n",
       "  <tbody>\n",
       "    <tr>\n",
       "      <th>0</th>\n",
       "      <td>Two Sum</td>\n",
       "      <td>/problems/two-sum</td>\n",
       "      <td>https://leetcode.com/problems/two-sum</td>\n",
       "      <td>Leetcode</td>\n",
       "    </tr>\n",
       "    <tr>\n",
       "      <th>1</th>\n",
       "      <td>Add Two Numbers</td>\n",
       "      <td>/problems/add-two-numbers</td>\n",
       "      <td>https://leetcode.com/problems/add-two-numbers</td>\n",
       "      <td>Leetcode</td>\n",
       "    </tr>\n",
       "    <tr>\n",
       "      <th>2</th>\n",
       "      <td>Longest Substring Without Repeating Characters</td>\n",
       "      <td>/problems/longest-substring-without-repeating-...</td>\n",
       "      <td>https://leetcode.com/problems/longest-substrin...</td>\n",
       "      <td>Leetcode</td>\n",
       "    </tr>\n",
       "    <tr>\n",
       "      <th>3</th>\n",
       "      <td>Median of Two Sorted Arrays</td>\n",
       "      <td>/problems/median-of-two-sorted-arrays</td>\n",
       "      <td>https://leetcode.com/problems/median-of-two-so...</td>\n",
       "      <td>Leetcode</td>\n",
       "    </tr>\n",
       "    <tr>\n",
       "      <th>4</th>\n",
       "      <td>Longest Palindromic Substring</td>\n",
       "      <td>/problems/longest-palindromic-substring</td>\n",
       "      <td>https://leetcode.com/problems/longest-palindro...</td>\n",
       "      <td>Leetcode</td>\n",
       "    </tr>\n",
       "  </tbody>\n",
       "</table>\n",
       "</div>"
      ],
      "text/plain": [
       "                                            Names  \\\n",
       "0                                         Two Sum   \n",
       "1                                 Add Two Numbers   \n",
       "2  Longest Substring Without Repeating Characters   \n",
       "3                     Median of Two Sorted Arrays   \n",
       "4                   Longest Palindromic Substring   \n",
       "\n",
       "                                          ProblemIds  \\\n",
       "0                                  /problems/two-sum   \n",
       "1                          /problems/add-two-numbers   \n",
       "2  /problems/longest-substring-without-repeating-...   \n",
       "3              /problems/median-of-two-sorted-arrays   \n",
       "4            /problems/longest-palindromic-substring   \n",
       "\n",
       "                                         ProblemUrls    Source  \n",
       "0              https://leetcode.com/problems/two-sum  Leetcode  \n",
       "1      https://leetcode.com/problems/add-two-numbers  Leetcode  \n",
       "2  https://leetcode.com/problems/longest-substrin...  Leetcode  \n",
       "3  https://leetcode.com/problems/median-of-two-so...  Leetcode  \n",
       "4  https://leetcode.com/problems/longest-palindro...  Leetcode  "
      ]
     },
     "execution_count": 40,
     "metadata": {},
     "output_type": "execute_result"
    }
   ],
   "source": [
    "leetcodeDf=getProblemLeetcode(LEETCODE_URL)\n",
    "leetcodeDf.head()\n"
   ]
  },
  {
   "cell_type": "markdown",
   "metadata": {},
   "source": [
    "Save all data to a csv"
   ]
  },
  {
   "cell_type": "code",
   "execution_count": 41,
   "metadata": {},
   "outputs": [],
   "source": [
    "df.to_csv(\"data/codeChefProblems.csv\", index=False)\n",
    "leetcodeDf.to_csv(\"data/leetCodeProblems.csv\", index=False)"
   ]
  },
  {
   "cell_type": "code",
   "execution_count": 42,
   "metadata": {},
   "outputs": [],
   "source": [
    "df.to_csv(\"data/codeChefProblemsCopy.csv\", index=False)\n",
    "leetcodeDf.to_csv(\"data/leetCodeProblemsCopy.csv\", index=False)"
   ]
  }
 ],
 "metadata": {
  "kernelspec": {
   "display_name": "Python 3",
   "language": "python",
   "name": "python3"
  },
  "language_info": {
   "codemirror_mode": {
    "name": "ipython",
    "version": 3
   },
   "file_extension": ".py",
   "mimetype": "text/x-python",
   "name": "python",
   "nbconvert_exporter": "python",
   "pygments_lexer": "ipython3",
   "version": "3.7.6"
  }
 },
 "nbformat": 4,
 "nbformat_minor": 4
}
