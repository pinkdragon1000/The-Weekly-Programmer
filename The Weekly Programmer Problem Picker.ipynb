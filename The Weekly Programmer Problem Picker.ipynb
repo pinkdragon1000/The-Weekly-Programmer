{
 "cells": [
  {
   "cell_type": "markdown",
   "metadata": {},
   "source": [
    "### The Weekly Programmer Problem Picker"
   ]
  },
  {
   "cell_type": "markdown",
   "metadata": {},
   "source": [
    "### Sita Robinson"
   ]
  },
  {
   "cell_type": "code",
   "execution_count": 56,
   "metadata": {},
   "outputs": [],
   "source": [
    "import pandas as pd"
   ]
  },
  {
   "cell_type": "markdown",
   "metadata": {},
   "source": [
    "Load in csv files created from the web scraper"
   ]
  },
  {
   "cell_type": "code",
   "execution_count": 57,
   "metadata": {},
   "outputs": [],
   "source": [
    "leetcodeDf=pd.read_csv(\"data/leetCodeProblems.csv\")\n",
    "codeChefDf=pd.read_csv(\"data/codeChefProblems.csv\")"
   ]
  },
  {
   "cell_type": "markdown",
   "metadata": {},
   "source": [
    "Pick random problems"
   ]
  },
  {
   "cell_type": "code",
   "execution_count": 58,
   "metadata": {},
   "outputs": [],
   "source": [
    "def pickRandomProblems(numLeetCode, numCodeChef):\n",
    "    randomProblemsDf=pd.concat([leetcodeDf.sample(n=numLeetCode), codeChefDf.sample(n=numCodeChef)], axis=0)\n",
    "    return randomProblemsDf\n"
   ]
  },
  {
   "cell_type": "code",
   "execution_count": 59,
   "metadata": {},
   "outputs": [
    {
     "data": {
      "text/html": [
       "<div>\n",
       "<style scoped>\n",
       "    .dataframe tbody tr th:only-of-type {\n",
       "        vertical-align: middle;\n",
       "    }\n",
       "\n",
       "    .dataframe tbody tr th {\n",
       "        vertical-align: top;\n",
       "    }\n",
       "\n",
       "    .dataframe thead th {\n",
       "        text-align: right;\n",
       "    }\n",
       "</style>\n",
       "<table border=\"1\" class=\"dataframe\">\n",
       "  <thead>\n",
       "    <tr style=\"text-align: right;\">\n",
       "      <th></th>\n",
       "      <th>Names</th>\n",
       "      <th>ProblemIds</th>\n",
       "      <th>ProblemUrls</th>\n",
       "      <th>Source</th>\n",
       "    </tr>\n",
       "  </thead>\n",
       "  <tbody>\n",
       "    <tr>\n",
       "      <th>49</th>\n",
       "      <td>Pow(x, n)</td>\n",
       "      <td>/problems/powx-n</td>\n",
       "      <td>https://leetcode.com/problems/powx-n</td>\n",
       "      <td>Leetcode</td>\n",
       "    </tr>\n",
       "    <tr>\n",
       "      <th>36</th>\n",
       "      <td>Sudoku Solver</td>\n",
       "      <td>/problems/sudoku-solver</td>\n",
       "      <td>https://leetcode.com/problems/sudoku-solver</td>\n",
       "      <td>Leetcode</td>\n",
       "    </tr>\n",
       "    <tr>\n",
       "      <th>43</th>\n",
       "      <td>Wildcard Matching</td>\n",
       "      <td>/problems/wildcard-matching</td>\n",
       "      <td>https://leetcode.com/problems/wildcard-matching</td>\n",
       "      <td>Leetcode</td>\n",
       "    </tr>\n",
       "    <tr>\n",
       "      <th>181</th>\n",
       "      <td>Chocolate Monger</td>\n",
       "      <td>CM164364</td>\n",
       "      <td>https://www.codechef.com/problems/CM164364</td>\n",
       "      <td>CodeChef</td>\n",
       "    </tr>\n",
       "    <tr>\n",
       "      <th>104</th>\n",
       "      <td>Chef and his Students</td>\n",
       "      <td>CHEFSTUD</td>\n",
       "      <td>https://www.codechef.com/problems/CHEFSTUD</td>\n",
       "      <td>CodeChef</td>\n",
       "    </tr>\n",
       "    <tr>\n",
       "      <th>117</th>\n",
       "      <td>Three Friends</td>\n",
       "      <td>THREEFR</td>\n",
       "      <td>https://www.codechef.com/problems/THREEFR</td>\n",
       "      <td>CodeChef</td>\n",
       "    </tr>\n",
       "    <tr>\n",
       "      <th>80</th>\n",
       "      <td>Good Joke!</td>\n",
       "      <td>RRJOKE</td>\n",
       "      <td>https://www.codechef.com/problems/RRJOKE</td>\n",
       "      <td>CodeChef</td>\n",
       "    </tr>\n",
       "  </tbody>\n",
       "</table>\n",
       "</div>"
      ],
      "text/plain": [
       "                     Names                   ProblemIds  \\\n",
       "49               Pow(x, n)             /problems/powx-n   \n",
       "36           Sudoku Solver      /problems/sudoku-solver   \n",
       "43       Wildcard Matching  /problems/wildcard-matching   \n",
       "181       Chocolate Monger                     CM164364   \n",
       "104  Chef and his Students                     CHEFSTUD   \n",
       "117          Three Friends                      THREEFR   \n",
       "80              Good Joke!                       RRJOKE   \n",
       "\n",
       "                                         ProblemUrls    Source  \n",
       "49              https://leetcode.com/problems/powx-n  Leetcode  \n",
       "36       https://leetcode.com/problems/sudoku-solver  Leetcode  \n",
       "43   https://leetcode.com/problems/wildcard-matching  Leetcode  \n",
       "181       https://www.codechef.com/problems/CM164364  CodeChef  \n",
       "104       https://www.codechef.com/problems/CHEFSTUD  CodeChef  \n",
       "117        https://www.codechef.com/problems/THREEFR  CodeChef  \n",
       "80          https://www.codechef.com/problems/RRJOKE  CodeChef  "
      ]
     },
     "execution_count": 59,
     "metadata": {},
     "output_type": "execute_result"
    }
   ],
   "source": [
    "randomProblemDf=pickRandomProblems(3,4)\n",
    "randomProblemDf"
   ]
  },
  {
   "cell_type": "code",
   "execution_count": 60,
   "metadata": {},
   "outputs": [],
   "source": [
    "randomProblemDf.to_csv(\"data/currentWeek.csv\", index=False)"
   ]
  },
  {
   "cell_type": "markdown",
   "metadata": {},
   "source": [
    "Remove data from overall csv file so the problems will never repeat."
   ]
  },
  {
   "cell_type": "code",
   "execution_count": 61,
   "metadata": {},
   "outputs": [],
   "source": [
    "def removeDuplicates():\n",
    "    leetcodeCopyDf=pd.read_csv(\"data/leetCodeProblemsCopy.csv\")\n",
    "    codeChefCopyDf=pd.read_csv(\"data/codeChefProblemsCopy.csv\")\n",
    "    combinedDf=pd.concat([leetcodeCopyDf, codeChefCopyDf], axis=0)\n",
    "    removedDuplicatesDf=pd.concat([combinedDf, randomProblemDf]).drop_duplicates(keep=False)\n",
    "    return removedDuplicatesDf\n",
    "    "
   ]
  },
  {
   "cell_type": "code",
   "execution_count": 62,
   "metadata": {},
   "outputs": [],
   "source": [
    "removedDuplicatesDf=removeDuplicates()\n",
    "removedDuplicatesCodeChefDf=removedDuplicatesDf.loc[removedDuplicatesDf.Source=='CodeChef']\n",
    "removedDuplicatesLeetcodeDf=removedDuplicatesDf.loc[removedDuplicatesDf.Source=='Leetcode']"
   ]
  },
  {
   "cell_type": "code",
   "execution_count": 63,
   "metadata": {},
   "outputs": [],
   "source": [
    "removedDuplicatesCodeChefDf.to_csv(\"data/codeChefProblemsCopy.csv\", index=False)\n",
    "removedDuplicatesLeetcodeDf.to_csv(\"data/leetCodeProblemsCopy.csv\", index=False)"
   ]
  }
 ],
 "metadata": {
  "kernelspec": {
   "display_name": "Python 3",
   "language": "python",
   "name": "python3"
  },
  "language_info": {
   "codemirror_mode": {
    "name": "ipython",
    "version": 3
   },
   "file_extension": ".py",
   "mimetype": "text/x-python",
   "name": "python",
   "nbconvert_exporter": "python",
   "pygments_lexer": "ipython3",
   "version": "3.7.6"
  }
 },
 "nbformat": 4,
 "nbformat_minor": 4
}
